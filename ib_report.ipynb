{
 "cells": [
  {
   "cell_type": "code",
   "execution_count": 26,
   "id": "b2bcebb6-023c-4b76-9f35-f004bd632ee5",
   "metadata": {},
   "outputs": [],
   "source": [
    "import os\n",
    "import pandas as pd"
   ]
  },
  {
   "cell_type": "code",
   "execution_count": 27,
   "id": "90e6cb0a-9e1e-4f43-9b93-5258040e81b4",
   "metadata": {},
   "outputs": [],
   "source": [
    "# File path to the uploaded CSV\n",
    "# month_input = input('Provide YYYYMM:')\n",
    "# ib_file_name = 'U16432685' + '_' + month_input + '_' + month_input + \".csv\"\n",
    "\n",
    "ib_file_name = 'U16432685_20240101_20241231.csv'\n",
    "# ib_file_name = 'MULTI_20240101_20241231.csv'\n",
    "script_dir = os.getcwd()  # Get the current working directory\n",
    "# script_dir = os.path.dirname(os.path.abspath(__file__)) # Get the directory where the script is located\n",
    "file_path = os.path.join(script_dir, ib_file_name) # Construct the full path to the CSV file"
   ]
  },
  {
   "cell_type": "code",
   "execution_count": 28,
   "id": "c8fc7d73-c8e3-4196-a2c6-a5ab54c0d54d",
   "metadata": {},
   "outputs": [],
   "source": [
    "# Dictionary to hold section DataFrames\n",
    "sections = {}\n",
    "\n",
    "# Variables to track the current section name and its data rows\n",
    "current_section = None\n",
    "current_data = []"
   ]
  },
  {
   "cell_type": "code",
   "execution_count": 29,
   "id": "61201693",
   "metadata": {},
   "outputs": [],
   "source": [
    "# Open the CSV file in read mode\n",
    "with open(file_path, 'r') as f:\n",
    "    # Process each line in the file\n",
    "    for line in f:\n",
    "        # Remove any extra whitespace/newlines and split by comma\n",
    "        row = line.strip().split(',')\n",
    "        \n",
    "        # Replace the condition below with your logic to detect a section start\n",
    "        if row[0].startswith('SECTION_MARKER'):  # Hint: define your marker here\n",
    "            # If data for the previous section exists, create a DataFrame\n",
    "            if current_section and current_data:\n",
    "                # Assume first row is header, rest are data rows\n",
    "                df = pd.DataFrame(current_data[1:], columns=current_data[0])\n",
    "                sections[current_section] = df\n",
    "            # Start a new section\n",
    "            current_section = row[0]  # You may want to adjust how you name sections\n",
    "            current_data = [row]  # Begin collecting rows for this new section\n",
    "        else:\n",
    "            # Continue collecting rows for the current section\n",
    "            current_data.append(row)\n",
    "    \n",
    "        # After looping, handle the final section if present\n",
    "    if current_section and current_data:\n",
    "        df = pd.DataFrame(current_data[1:], columns=current_data[0])\n",
    "        sections[current_section] = df"
   ]
  },
  {
   "cell_type": "code",
   "execution_count": 34,
   "id": "b0f22190",
   "metadata": {},
   "outputs": [],
   "source": [
    "# Import display to render DataFrames nicely in Jupyter cells\n",
    "from IPython.display import display\n",
    "\n",
    "# Loop through your dictionary of DataFrames (assumed to be named 'sections')\n",
    "for section_name, df in sections.items():\n",
    "    # Print out the section name so you know which DataFrame you're looking at\n",
    "    print(f\"Section: {section_name}\")\n",
    "    # Use display() to render the DataFrame as an interactive table\n",
    "    display(df)"
   ]
  }
 ],
 "metadata": {
  "kernelspec": {
   "display_name": "venv",
   "language": "python",
   "name": "python3"
  },
  "language_info": {
   "codemirror_mode": {
    "name": "ipython",
    "version": 3
   },
   "file_extension": ".py",
   "mimetype": "text/x-python",
   "name": "python",
   "nbconvert_exporter": "python",
   "pygments_lexer": "ipython3",
   "version": "3.13.1"
  }
 },
 "nbformat": 4,
 "nbformat_minor": 5
}
